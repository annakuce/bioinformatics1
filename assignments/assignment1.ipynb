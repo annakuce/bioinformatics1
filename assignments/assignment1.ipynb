{
 "cells": [
  {
   "cell_type": "code",
   "execution_count": 3,
   "metadata": {},
   "outputs": [],
   "source": [
    "from Bio import Entrez\n",
    "from Bio import SeqIO\n",
    "\n",
    "EMAIL = 's2614533@ed.ac.uk'\n",
    "Entrez.email = EMAIL"
   ]
  },
  {
   "cell_type": "code",
   "execution_count": null,
   "metadata": {},
   "outputs": [],
   "source": [
    "def get_content(sequence, nucleotide):\n",
    "    return round(100 * sequence.count(nucleotide)/len(sequence),2)\n",
    "\n",
    "def get_most_frequent_aminoacid(sequence):\n",
    "    aminoacids = ['A','R','D','N','C','E','Q','G','H','I','L','K','M','F','P','S','T','W','Y','V']\n",
    "    \n",
    "    max_count = 0\n",
    "    most_frequent_aminoacids = []\n",
    "\n",
    "    for a in aminoacids:\n",
    "        count = sequence.count(a)\n",
    "        if count > max_count:\n",
    "            most_frequent_aminoacids = [a]\n",
    "            max_count = count\n",
    "        elif count == max_count:\n",
    "            most_frequent_aminoacids.append(a)\n",
    "    \n",
    "    return most_frequent_aminoacids\n",
    "\n",
    "    \n",
    "accession_ids = 'NM_033646.4, NM_004361.5, NM_001317214.3, NM_001362438.2'\n",
    "handle = Entrez.efetch( db = 'Nucleotide', id = accession_ids, rettype = 'gb', retmode = 'text')\n",
    "records = list(SeqIO.parse(handle, 'genbank')) # SeqIO.parse returns an iterator which can be used to iterate only once. Since we want to iterate twice, we need to use a list\n",
    "\n",
    "print(f\"{'Accession number':20}{'%G':10}{'%C':10}{'%T':10}{'%A':10}{'Length':10}\")\n",
    "for entry in records:\n",
    "    sequence = entry.seq\n",
    "    print(f\"{entry.id:20}{get_content(sequence, 'G'):<10}{get_content(sequence, 'C'):<10}{get_content(sequence, 'T'):<10}{get_content(sequence, 'A'):<10}{len(sequence):<10}\")\n",
    "\n",
    "\n",
    "print(\"\\n\\n\")\n",
    "# Do we need to find translations to protein in all 6 reading frames?\n",
    "for entry in records:\n",
    "    print(f\"Accession ID of the gene transcript: {entry.id}\")\n",
    "    for feature in entry.features:\n",
    "        if feature.type == \"CDS\":\n",
    "            print(f\"Protein ID: {feature.qualifiers['protein_id']}\")\n",
    "            print(f\"Location of the CDS = {feature.location}\\n\")\n",
    "            current_sequence = feature.location.extract(entry).seq\n",
    "            print('Protein Sequence')\n",
    "            protein_sequence = current_sequence.translate(to_stop = True)\n",
    "            print(protein_sequence)\n",
    "            print(f\"Length of the protein sequence = {len(protein_sequence)}\")\n",
    "            print(f\"Most frequent aminoacid(s): {get_most_frequent_aminoacid(protein_sequence)} \\n\")\n"
   ]
  },
  {
   "cell_type": "code",
   "execution_count": null,
   "metadata": {},
   "outputs": [],
   "source": [
    "handle = Entrez.efetch(db=\"gene\", id='1005', rettype=\"gb\", retmode=\"text\")\n",
    "print(handle.read())\n"
   ]
  },
  {
   "cell_type": "markdown",
   "metadata": {},
   "source": [
    "By searching the NCBI databases through NCBI website, we have found this information about human Calderin 7: \n",
    "Gene ID: 1005\n",
    "Official Symbol: CDH7\n",
    "Also known as: CDH7L1\n",
    "\n",
    "https://www.ncbi.nlm.nih.gov/nuccore/NM_004361.5,NM_033646.4,NM_001317214.3,NM_001362438.2\n",
    "4 different transcripts:\n",
    "a) NM_033646.4      12126 bp\n",
    "b) NM_004361.5      12136 bp\n",
    "c) NM_001317214.3   3407 bp\n",
    "d) NM_001362438.2   12938 bp "
   ]
  },
  {
   "cell_type": "code",
   "execution_count": 3,
   "metadata": {},
   "outputs": [],
   "source": [
    "# pairwise sequence alignment\n",
    "from Bio import Entrez\n",
    "from Bio import SeqIO\n",
    "from Bio import pairwise2 as pw\n",
    "from Bio import AlignIO\n",
    "from Bio import Align as al\n",
    "\n",
    "EMAIL = 's2614533@ed.ac.uk'\n",
    "Entrez.email = EMAIL\n",
    "\n",
    "mx = al.substitution_matrices.load('BLOSUM90')\n",
    "\n",
    "shortest_seq = records[2].seq\n",
    "longest_seq = records[3].seq\n",
    "alignments = pw.align.localds(longest_seq,shortest_seq,mx, -10, -0.5)"
   ]
  },
  {
   "cell_type": "code",
   "execution_count": null,
   "metadata": {},
   "outputs": [],
   "source": [
    "print(\"Number of different alignments: \",len(alignments))\n",
    "print(\"Score: \",alignments[0][2])\n",
    "\n",
    "# print(pw.format_alignment(*alignments[0]))\n",
    "\n",
    "alignment_fasta = \\\n",
    "\">\"+records[3].name+\" \"+records[3].description+\"\\n\"+alignments[0][0] \\\n",
    "+\"\\n\"+ \\\n",
    "\">\"+records[2].name+\" \"+records[2].description+\"\\n\"+alignments[0][1]\n",
    "\n",
    "# write it to a file\n",
    "fh = open('calderin_alignment_blosum62.fa','w')\n",
    "fh.write(alignment_fasta)\n",
    "fh.close()\n",
    "\n",
    "# read in the file using AlignIO\n",
    "alignment = AlignIO.read('calderin_alignment_blosum62.fa', \"fasta\")\n",
    "\n",
    "# convert to clustal\n",
    "print(format(alignment,'clustal'))"
   ]
  },
  {
   "cell_type": "markdown",
   "metadata": {},
   "source": [
    "also used megablast to compare the sequences:\n",
    "https://blast.ncbi.nlm.nih.gov/Blast.cgi\n",
    "\n",
    "why megablast - for highly similar sequences\n",
    "why BLOSUM90 ?? - explain\n",
    "why local search - ??"
   ]
  },
  {
   "cell_type": "code",
   "execution_count": 9,
   "metadata": {},
   "outputs": [
    {
     "name": "stdout",
     "output_type": "stream",
     "text": [
      "['[0:129](+)', '[129:535](+)', '[535:830](+)', '[830:950](+)', '[950:1118](+)', '[1118:1306](+)', '[1306:1560](+)', '[1560:1697](+)', '[1697:1819](+)', '[1819:1937](+)', '[1937:2189](+)', '[2189:12126](+)']\n",
      "[129, 406, 295, 120, 168, 188, 254, 137, 122, 118, 252, 9937]\n",
      "['[0:139](+)', '[139:545](+)', '[545:840](+)', '[840:960](+)', '[960:1128](+)', '[1128:1316](+)', '[1316:1570](+)', '[1570:1707](+)', '[1707:1829](+)', '[1829:1947](+)', '[1947:2199](+)', '[2199:12136](+)']\n",
      "[139, 406, 295, 120, 168, 188, 254, 137, 122, 118, 252, 9937]\n",
      "['[0:139](+)', '[139:545](+)', '[545:840](+)', '[840:960](+)', '[960:1128](+)', '[1128:1316](+)', '[1316:1570](+)', '[1570:1707](+)', '[1707:1829](+)', '[1829:1947](+)', '[1947:3407](+)']\n",
      "[139, 406, 295, 120, 168, 188, 254, 137, 122, 118, 1460]\n",
      "['[0:941](+)', '[941:1347](+)', '[1347:1642](+)', '[1642:1762](+)', '[1762:1930](+)', '[1930:2118](+)', '[2118:2372](+)', '[2372:2509](+)', '[2509:2631](+)', '[2631:2749](+)', '[2749:3001](+)', '[3001:12938](+)']\n",
      "[941, 406, 295, 120, 168, 188, 254, 137, 122, 118, 252, 9937]\n"
     ]
    }
   ],
   "source": [
    "for entry in records:\n",
    "    count = 1\n",
    "    lengths = []\n",
    "    locations = []\n",
    "    for feature in entry.features:\n",
    "        if feature.type == \"exon\":\n",
    "            # print(f\"Location of exon {count} = {feature.location}\")\n",
    "            exon = feature.location.extract(entry).seq\n",
    "            # print(f\"length = {len(exon)}\")\n",
    "            #count += 1\n",
    "            lengths.append(len(exon))\n",
    "            locations.append(str(feature.location))\n",
    "    print(locations)\n",
    "    print(lengths)\n",
    "    \n",
    "        "
   ]
  },
  {
   "cell_type": "markdown",
   "metadata": {},
   "source": [
    "TASK 3\n",
    "13 exons in total (https://www.ncbi.nlm.nih.gov/gene/1005)\n",
    "Lengths:\n",
    "* exon 1 : 129 (present only in variant a)\n",
    "* exon 2a: 139\n",
    "* exon 2b: 941\n",
    "* exon 3: 406\n",
    "* exon 4: 295\n",
    "* exon 5: 120\n",
    "* exon 6: 168\n",
    "* exon 7: 188\n",
    "* exon 8: 254\n",
    "* exon 9: 137\n",
    "* exon 10: 122\n",
    "* exon 11: 118\n",
    "* exon 12a: 252\n",
    "* exon 12b: 1460\n",
    "* exon 13: 9937\n"
   ]
  },
  {
   "cell_type": "markdown",
   "metadata": {},
   "source": [
    "shortest transcript has 11 exons, longest transcript has 12 exons\n",
    "Exons 2 - 10 are identical (seem so, check!)\n",
    "Exon 1 in the shortest transcript is only part of the exon 1 in the longest transcript\n",
    "Exon 11 in the longest transcript is only part of the exon 11 in the shortest transcript\n",
    "\n",
    "Visualisation:\n",
    "https://www.ncbi.nlm.nih.gov/genome/gdv/browser/gene/?id=1005"
   ]
  }
 ],
 "metadata": {
  "kernelspec": {
   "display_name": "Python 3",
   "language": "python",
   "name": "python3"
  },
  "language_info": {
   "codemirror_mode": {
    "name": "ipython",
    "version": 3
   },
   "file_extension": ".py",
   "mimetype": "text/x-python",
   "name": "python",
   "nbconvert_exporter": "python",
   "pygments_lexer": "ipython3",
   "version": "3.10.8"
  }
 },
 "nbformat": 4,
 "nbformat_minor": 2
}
